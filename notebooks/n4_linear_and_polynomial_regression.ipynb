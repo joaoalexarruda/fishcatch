{
 "cells": [
  {
   "cell_type": "markdown",
   "metadata": {},
   "source": [
    "| [$\\leftarrow$ Polynomial Regression ](n3_polynomial_regression.ipynb) | [Comparison and Conclusion $\\rightarrow$](n5_comparison_conclusion.ipynb) |\n",
    "| :-----------------------------------------------------------------: | :---------------------------------------------------------------: |\n",
    "\n",
    "<hr>"
   ]
  },
  {
   "cell_type": "markdown",
   "metadata": {},
   "source": [
    "### <hr>\n",
    "\n",
    "| [$\\leftarrow$ Polynomial Regression ](n3_polynomial_regression.ipynb) | [Comparison and Conclusion $\\rightarrow$](n5_comparison_conclusion.ipynb) |\n",
    "| :-----------------------------------------------------------------: | :---------------------------------------------------------------: |\n"
   ]
  }
 ],
 "metadata": {
  "language_info": {
   "name": "python"
  }
 },
 "nbformat": 4,
 "nbformat_minor": 2
}
