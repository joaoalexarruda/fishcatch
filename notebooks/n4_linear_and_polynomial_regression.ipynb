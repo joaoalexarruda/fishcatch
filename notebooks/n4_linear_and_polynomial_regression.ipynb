{
 "cells": [
  {
   "cell_type": "markdown",
   "metadata": {},
   "source": [
    "| [$\\leftarrow$ 3. Polynomial Regression ](n3_polynomial_regression.ipynb) | [5. Comparison and Conclusion $\\rightarrow$](n5_comparison_conclusion.ipynb) |\n",
    "| :-----------------------------------------------------------------: | :---------------------------------------------------------------: |\n",
    "\n",
    "<hr>"
   ]
  },
  {
   "cell_type": "markdown",
   "metadata": {},
   "source": [
    "### 4. **Linear and Polynomial Regression**"
   ]
  },
  {
   "cell_type": "markdown",
   "metadata": {},
   "source": [
    "### <hr>\n",
    "\n",
    "| [$\\leftarrow$ 3. Polynomial Regression ](n3_polynomial_regression.ipynb) | [5. Comparison and Conclusion $\\rightarrow$](n5_comparison_conclusion.ipynb) |\n",
    "| :-----------------------------------------------------------------: | :---------------------------------------------------------------: |\n"
   ]
  }
 ],
 "metadata": {
  "language_info": {
   "name": "python"
  }
 },
 "nbformat": 4,
 "nbformat_minor": 2
}
