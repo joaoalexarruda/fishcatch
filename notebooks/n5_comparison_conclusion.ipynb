{
 "cells": [
  {
   "cell_type": "markdown",
   "metadata": {},
   "source": [
    "| [$\\leftarrow$ 4. Linear and Polynomial Regression](n4_linear_and_polynomial_regression.ipynb) |  |\n",
    "| :-----------------------------------------------------------------: | :---------------------------------------------------------------: |\n",
    "\n",
    "<hr>"
   ]
  },
  {
   "cell_type": "markdown",
   "metadata": {},
   "source": [
    "### <hr>\n",
    "\n",
    "| [$\\leftarrow$ 4. Linear and Polynomial Regression](n4_linear_and_polynomial_regression.ipynb) |  |\n",
    "| :-----------------------------------------------------------------: | :---------------------------------------------------------------: |\n",
    "\n"
   ]
  }
 ],
 "metadata": {
  "language_info": {
   "name": "python"
  }
 },
 "nbformat": 4,
 "nbformat_minor": 2
}
